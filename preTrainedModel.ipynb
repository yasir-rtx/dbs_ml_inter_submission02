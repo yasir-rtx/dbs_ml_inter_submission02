{
 "cells": [
  {
   "cell_type": "code",
   "execution_count": null,
   "metadata": {},
   "outputs": [],
   "source": [
    "import tensorflow_hub as hub"
   ]
  },
  {
   "cell_type": "code",
   "execution_count": 4,
   "metadata": {},
   "outputs": [],
   "source": [
    "mobilenetV2 = hub.KerasLayer(\"https://www.kaggle.com/models/google/mobilenet-v2/TensorFlow2/035-128-feature-vector/2\", trainable=False),  # Can be True, see below."
   ]
  },
  {
   "cell_type": "code",
   "execution_count": 3,
   "metadata": {},
   "outputs": [],
   "source": [
    "resnet50 = hub.KerasLayer(\"https://www.kaggle.com/models/tensorflow/resnet-50/TensorFlow2/feature-vector/1\", trainable=False),  # Can be True, see below."
   ]
  },
  {
   "cell_type": "code",
   "execution_count": 5,
   "metadata": {},
   "outputs": [],
   "source": [
    "efficientnet = hub.KerasLayer(\"https://www.kaggle.com/models/tensorflow/efficientnet/TensorFlow2/b0-feature-vector/1\", trainable=False),  # Can be True, see below."
   ]
  },
  {
   "cell_type": "code",
   "execution_count": 6,
   "metadata": {},
   "outputs": [],
   "source": [
    "efficientnetV2 = hub.KerasLayer(\"https://www.kaggle.com/models/google/efficientnet-v2/TensorFlow2/imagenet1k-b0-feature-vector/2\", trainable=False),  # Can be True, see below."
   ]
  },
  {
   "cell_type": "code",
   "execution_count": 7,
   "metadata": {},
   "outputs": [],
   "source": [
    "inceptionV3 = hub.KerasLayer(\"https://www.kaggle.com/models/google/inception-v3/TensorFlow2/feature-vector/2\", trainable=False),  # Can be True, see below."
   ]
  }
 ],
 "metadata": {
  "kernelspec": {
   "display_name": "tf2.13",
   "language": "python",
   "name": "python3"
  },
  "language_info": {
   "codemirror_mode": {
    "name": "ipython",
    "version": 3
   },
   "file_extension": ".py",
   "mimetype": "text/x-python",
   "name": "python",
   "nbconvert_exporter": "python",
   "pygments_lexer": "ipython3",
   "version": "3.10.12"
  }
 },
 "nbformat": 4,
 "nbformat_minor": 2
}
